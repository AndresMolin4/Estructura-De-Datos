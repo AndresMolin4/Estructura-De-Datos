{
  "cells": [
    {
      "cell_type": "markdown",
      "metadata": {
        "id": "CE95k9YFitOt"
      },
      "source": [
        "<h1><center><b>Cadenas y Arreglos</b></center></h1>\n",
        "\n",
        "---"
      ]
    },
    {
      "cell_type": "markdown",
      "metadata": {
        "id": "Q_Asqj-nitO0"
      },
      "source": [
        "**Table of contents**<a id='toc0_'></a>    \n",
        "- [Objetivo](#toc1_1_)    \n",
        "  - [Introducción](#toc1_2_)    \n",
        "  - [Cadenas (Strings)](#toc1_3_)    \n",
        "    - [Busquedas](#toc1_3_1_)    \n",
        "    - [Aplicaciones](#toc1_3_2_)    \n",
        "    - [Ejemplo](#toc1_3_3_)    \n",
        "  - [Arreglos (Arrays)](#toc1_4_)    \n",
        "      - [Arreglos Unidimensionales](#toc1_4_1_1_)    \n",
        "    - [Búsquedas](#toc1_4_2_)    \n",
        "    - [Aplicaiones](#toc1_4_3_)    \n",
        "    - [Ejemplo](#toc1_4_4_)    \n",
        "  - [Clases Predefinidas](#toc1_5_)    \n",
        "    - [Arrays](#toc1_5_1_)    \n",
        "    - [ArrayList](#toc1_5_2_)    \n",
        "  - [Conclusión](#toc1_6_)    \n",
        "  - [Ejercicio Práctico](#toc1_7_)    \n",
        "    - [Instrucciones](#toc1_7_1_)    \n",
        "  - [Referencias](#toc1_8_)    \n",
        "      - [Libros](#toc1_8_1_1_)    \n",
        "      - [Repositorios](#toc1_8_1_2_)    \n",
        "      - [Videos](#toc1_8_1_3_)    \n",
        "\n",
        "<!-- vscode-jupyter-toc-config\n",
        "\tnumbering=false\n",
        "\tanchor=true\n",
        "\tflat=false\n",
        "\tminLevel=1\n",
        "\tmaxLevel=6\n",
        "\t/vscode-jupyter-toc-config -->\n",
        "<!-- THIS CELL WILL BE REPLACED ON TOC UPDATE. DO NOT WRITE YOUR TEXT IN THIS CELL -->"
      ]
    },
    {
      "cell_type": "markdown",
      "metadata": {
        "id": "NGKgR7vjitO3"
      },
      "source": [
        "---\n",
        "\n",
        "<a target=\"_blank\" href=\"https://colab.research.google.com/github/uETITC/DataStructure-2024-2/blob/main/Lessons/3.%20StringsAndArrays.ipynb\">\n",
        "  <img src=\"https://colab.research.google.com/assets/colab-badge.svg\" alt=\"Open In Colab\"/>\n",
        "</a>\n",
        "   \n",
        "## <a id='toc1_1_'></a>[Objetivo](#toc0_)\n",
        "\n",
        "Desarrollar en los estudiantes una comprensión profunda sobre el manejo de arreglos y cadenas en Java, tanto en una como en varias dimensiones. Los estudiantes podrán aplicar estos conceptos en la manipulación y organización eficiente de datos, así como en la implementación de algoritmos de búsqueda para resolver problemas específicos en el desarrollo de software.\n",
        "\n",
        "## <a id='toc1_2_'></a>[Introducción](#toc0_)\n",
        "\n",
        "Los arreglos y las cadenas son fundamentales en Java para organizar y manipular datos de manera eficiente. En esta clase, exploraremos cómo declarar, inicializar y manejar arreglos, tanto unidimensionales como multidimensionales, y cómo trabajar con cadenas, que son esenciales en el procesamiento de texto. También veremos aplicaciones prácticas y algoritmos de búsqueda en estas estructuras, combinando teoría y ejercicios prácticos para fortalecer la comprensión y la habilidad de resolver problemas en el desarrollo de software.\n",
        "\n",
        "Si trabajas desde [Google Colab](https://colab.research.google.com/) **debes** ejecutar la siguiente casilla. Recuerda que el tutorial de como configurar el entorno lo puedes encontrar en el primer tutorial: [1. Intruduction To Java](https://github.com/uETITC/ProgrammingII-2024-2/blob/main/Lessons/1.%20IntroductionToJava.md#instalando-el-kernel-de-java)."
      ]
    },
    {
      "cell_type": "code",
      "execution_count": 1,
      "metadata": {
        "colab": {
          "base_uri": "https://localhost:8080/"
        },
        "id": "RvdaVGB7itO4",
        "outputId": "c8bb8d9d-d9e6-4c8d-d570-ed418bed346b",
        "vscode": {
          "languageId": "java"
        }
      },
      "outputs": [
        {
          "name": "stdout",
          "output_type": "stream",
          "text": [
            "Installed java kernel into \"/usr/local/share/jupyter/kernels/java\"\n",
            "e2732061ad19c1afa4a33a58cb8f18a9-b6cff2bf09b6832344e576ea1e4731f0fb3df10c/install_ipc_proxy_kernel.py\n",
            "e2732061ad19c1afa4a33a58cb8f18a9-b6cff2bf09b6832344e576ea1e4731f0fb3df10c/ipc_proxy_kernel.py\n",
            "Moving java kernel from /usr/local/share/jupyter/kernels/java...\n",
            "Wrote modified kernel.json for java_tcp in /usr/local/share/jupyter/kernels/java_tcp/kernel.json\n",
            "Installing the proxy kernel in place of java in /usr/local/share/jupyter/kernels/java\n",
            "Installed proxy kernelspec: {\"argv\": [\"/usr/bin/python3\", \"/usr/local/share/jupyter/kernels/java/ipc_proxy_kernel.py\", \"{connection_file}\", \"--kernel=java_tcp\"], \"env\": {}, \"display_name\": \"Java\", \"language\": \"java\", \"interrupt_mode\": \"message\", \"metadata\": {}}\n",
            "Proxy kernel installed. Go to 'Runtime > Change runtime type' and select 'java'\n"
          ]
        },
        {
          "name": "stderr",
          "output_type": "stream",
          "text": [
            "/content/install.py:164: DeprecationWarning: replace is ignored. Installing a kernelspec always replaces an existing installation\n",
            "  install_dest = KernelSpecManager().install_kernel_spec(\n"
          ]
        }
      ],
      "source": [
        "%%sh\n",
        "# Install java kernel\n",
        "wget -q https://github.com/SpencerPark/IJava/releases/download/v1.3.0/ijava-1.3.0.zip\n",
        "unzip -q ijava-1.3.0.zip\n",
        "python install.py\n",
        "\n",
        "# Install proxy for the java kernel\n",
        "wget -qO- https://gist.github.com/SpencerPark/e2732061ad19c1afa4a33a58cb8f18a9/archive/b6cff2bf09b6832344e576ea1e4731f0fb3df10c.tar.gz | tar xvz --strip-components=1\n",
        "python install_ipc_proxy_kernel.py --kernel=java --implementation=ipc_proxy_kernel.py"
      ]
    },
    {
      "cell_type": "markdown",
      "metadata": {
        "id": "-XL_u2VnitO5"
      },
      "source": [
        "## <a id='toc1_3_'></a>[Cadenas (Strings)](#toc0_)\n",
        "\n",
        "Las cadenas (`String`) son secuencias de caracteres que se tratan como objetos en Java. A diferencia de los arreglos, las cadenas son **inmutables**, lo que significa que no se pueden modificar una vez creadas.\n",
        "\n",
        "<div align=\"center\">\n",
        "  <img src=\"https://github.com/uETITC/DataStructure-2024-2/blob/main/Lessons/images/vector1.png?raw=1\" width=70%>\n",
        "</div>\n",
        "\n",
        "- **Creación de Cadenas**"
      ]
    },
    {
      "cell_type": "code",
      "execution_count": null,
      "metadata": {
        "colab": {
          "base_uri": "https://localhost:8080/"
        },
        "id": "7PjOl67SitO6",
        "outputId": "53e4ec4b-4861-4993-f154-5b81655b21f6",
        "vscode": {
          "languageId": "java"
        }
      },
      "outputs": [
        {
          "name": "stdout",
          "output_type": "stream",
          "text": [
            "Hello, World!\n",
            "The index 7 of the phrase 'Hello, World!' is 'W'."
          ]
        },
        {
          "data": {
            "text/plain": [
              "java.io.PrintStream@56a4ccc0"
            ]
          },
          "execution_count": 30,
          "metadata": {},
          "output_type": "execute_result"
        }
      ],
      "source": [
        "// Declaración e inicialización de una cadena\n",
        "String saludo = \"Hello, World!\";\n",
        "  // Imprimir cadena completa\n",
        "System.out.println(saludo);\n",
        "\n",
        "// Acceso a caracteres individuales\n",
        "int index = saludo.length()-6;\n",
        "System.out.printf(\"The index %d of the phrase '%s' is '%c'.\",index, saludo, saludo.charAt(index)); // Imprime 'H'"
      ]
    },
    {
      "cell_type": "markdown",
      "metadata": {
        "id": "d77CU8e1itO7"
      },
      "source": [
        "- **Cadenas como Arreglos**\n",
        "\n",
        "Una cadena puede ser vista como un arreglo de caracteres."
      ]
    },
    {
      "cell_type": "code",
      "execution_count": null,
      "metadata": {
        "colab": {
          "base_uri": "https://localhost:8080/"
        },
        "id": "i-mR3klQitO8",
        "outputId": "42c8b7d3-4e90-4de4-b7e8-41bb4d021adb",
        "vscode": {
          "languageId": "java"
        }
      },
      "outputs": [
        {
          "name": "stdout",
          "output_type": "stream",
          "text": [
            "e\n",
            "W\n"
          ]
        }
      ],
      "source": [
        "char[] caracteres = saludo.toCharArray();\n",
        "System.out.println(caracteres[1]); // Imprime 'o'\n",
        "\n",
        "// Imprime la letra W\n",
        "System.out.println(caracteres[7]);"
      ]
    },
    {
      "cell_type": "markdown",
      "metadata": {
        "id": "MSO5ANv_itO9"
      },
      "source": [
        "- **Ingresar Variables/Texto**"
      ]
    },
    {
      "cell_type": "code",
      "execution_count": null,
      "metadata": {
        "colab": {
          "base_uri": "https://localhost:8080/"
        },
        "id": "R1RbSCHcUwq6",
        "outputId": "45f3c495-085f-46ad-b91e-d5d9c1f0a2f9",
        "vscode": {
          "languageId": "java"
        }
      },
      "outputs": [
        {
          "name": "stdout",
          "output_type": "stream",
          "text": [
            "Enter a name: \n",
            "Andres\n",
            "You entered the name: Andres\n",
            "5\n",
            "The number you entered is:5\n"
          ]
        }
      ],
      "source": [
        "import java.util.Scanner;\n",
        "// Ingresar una sola variable\n",
        "Scanner input_name = new Scanner(System.in);\n",
        "System.out.println(\"Enter a name: \");\n",
        "String name = input_name.nextLine();\n",
        "System.out.println(\"You entered the name: \"+name);\n",
        "\n",
        "// Ingresando un entero\n",
        "int integer1 = input_name.nextInt();\n",
        "System.out.println(\"The number you entered is:\"+integer1 );"
      ]
    },
    {
      "cell_type": "code",
      "execution_count": null,
      "metadata": {
        "colab": {
          "base_uri": "https://localhost:8080/"
        },
        "id": "B1QjRthqitO_",
        "outputId": "0658927e-ccc2-49c3-f512-9de3691852f4",
        "vscode": {
          "languageId": "java"
        }
      },
      "outputs": [
        {
          "name": "stdout",
          "output_type": "stream",
          "text": [
            "Enter a character: asndasdfa\n",
            "\n",
            "The character entered is a\n"
          ]
        }
      ],
      "source": [
        "// Ingresar un caracter\n",
        "Scanner input = new Scanner(System.in);\n",
        "System.out.print(\"Enter a character: \");\n",
        "String s = input.nextLine();\n",
        "char ch = s.charAt(4);\n",
        "System.out.println(\"\\nThe character entered is \" + ch);\n",
        "\n",
        "// Agrega un código que pida una string y un número y entregue\n",
        "// el carácter de la string en el indice del número\n",
        "\n",
        "\n",
        "\n"
      ]
    },
    {
      "cell_type": "markdown",
      "metadata": {
        "id": "htH44aiJitO_"
      },
      "source": [
        "¿Se puede ingresar un float o double? **SI**\n",
        "\n",
        "¡Siempre se puede convertir (cast or casting) una variable de un tipo a otro!"
      ]
    },
    {
      "cell_type": "code",
      "execution_count": null,
      "metadata": {
        "colab": {
          "base_uri": "https://localhost:8080/"
        },
        "id": "-sKxEUgcitO_",
        "outputId": "a56a0153-99c8-4164-da64-390dbd8de562",
        "vscode": {
          "languageId": "java"
        }
      },
      "outputs": [
        {
          "name": "stdout",
          "output_type": "stream",
          "text": [
            "23.2\n",
            "The number you entered in double is: 23.2\n",
            "The number you entered in float is: 23.2\n"
          ]
        }
      ],
      "source": [
        "\n",
        "// String to double\n",
        "Scanner input = new Scanner(System.in);\n",
        "String numero = input.nextLine();\n",
        "double double1 = Double.parseDouble(numero);\n",
        "System.out.println(\"The number you entered in double is: \"+double1);\n",
        "\n",
        "// String to float\n",
        "// String float1 = input.nextLine();\n",
        "float float1 = Float.parseFloat(numero);\n",
        "System.out.println(\"The number you entered in float is: \"+float1 );"
      ]
    },
    {
      "cell_type": "code",
      "execution_count": null,
      "metadata": {
        "id": "1RbRBlu3itPA",
        "outputId": "cf8ec3bf-8d24-49a7-caa5-e9a175b3f62e",
        "vscode": {
          "languageId": "java"
        }
      },
      "outputs": [
        {
          "name": "stdout",
          "output_type": "stream",
          "text": [
            "Enter three words separated by spaces: \n",
            "You entered 1 2 3 \n",
            "s1 is 1\n",
            "s2 is 2\n",
            "s3 is 3\n"
          ]
        }
      ],
      "source": [
        "// Ingresar varias variables al tiempo (palabras)\n",
        "Scanner input = new Scanner(System.in);\n",
        "System.out.print(\"Enter three words separated by spaces: \");\n",
        "String s1 = input.next();\n",
        "String s2 = input.next();\n",
        "String s3 = input.next();\n",
        "System.out.printf(\"%nYou entered %s %s %s %n\", s1, s2, s3);\n",
        "System.out.println(\"  s1 is \" + s1);\n",
        "System.out.println(\"  s2 is \" + s2);\n",
        "System.out.println(\"  s3 is \" + s3);"
      ]
    },
    {
      "cell_type": "markdown",
      "metadata": {
        "id": "NM5Ea1BhitPA"
      },
      "source": [
        "- **Operaciones Con Cadenas**"
      ]
    },
    {
      "cell_type": "code",
      "execution_count": null,
      "metadata": {
        "colab": {
          "base_uri": "https://localhost:8080/"
        },
        "id": "cnmrzTpXnipd",
        "outputId": "cc71a6fc-4685-463e-dc01-faa7956ce777",
        "vscode": {
          "languageId": "java"
        }
      },
      "outputs": [
        {
          "name": "stdout",
          "output_type": "stream",
          "text": [
            "The length of Welcome to Java is 15\n"
          ]
        }
      ],
      "source": [
        "// Longitud de una cadena\n",
        "String message = \"Welcome to Java\";\n",
        "System.out.println(\"The length of \" + message + \" is \"+ message.length());"
      ]
    },
    {
      "cell_type": "code",
      "execution_count": null,
      "metadata": {
        "colab": {
          "base_uri": "https://localhost:8080/"
        },
        "id": "QPpSi8X9itPB",
        "outputId": "f26c13d1-563c-44b7-91c1-d999de2362ee",
        "vscode": {
          "languageId": "java"
        }
      },
      "outputs": [
        {
          "name": "stdout",
          "output_type": "stream",
          "text": [
            "Welcome to Java! AndresM Data structures course.\n",
            "Welcome to Java!, AndresM. This is the Data structures course."
          ]
        },
        {
          "data": {
            "text/plain": [
              "java.io.PrintStream@56a4ccc0"
            ]
          },
          "execution_count": 127,
          "metadata": {},
          "output_type": "execute_result"
        }
      ],
      "source": [
        "// Unión de cadenas usando el operador sumar (+)\n",
        "String name = \"AndresM\";\n",
        "String message1 = \"Welcome to Java!\";\n",
        "String message2 = \"Data structures course.\";\n",
        "\n",
        "System.out.println(message1+\" \"+name+\" \"+message2);\n",
        "System.out.printf(\"%s, %s. This is the %s\", message1, name, message2);"
      ]
    },
    {
      "cell_type": "code",
      "execution_count": null,
      "metadata": {
        "colab": {
          "base_uri": "https://localhost:8080/"
        },
        "id": "66LQjSjEitPC",
        "outputId": "9e60a917-4cf7-4927-e198-09913a0f207c",
        "vscode": {
          "languageId": "java"
        }
      },
      "outputs": [
        {
          "name": "stdout",
          "output_type": "stream",
          "text": [
            "Selected numbers 12\n",
            "Selected numbers 3\n",
            "Selected numbers 3.13\n",
            "Selected numbers 3.1231232\n"
          ]
        }
      ],
      "source": [
        "// Mezclando números y cadenas\n",
        "int i = 1, j=2;\n",
        "double z = 3.13;\n",
        "float w = 3.123123123F;\n",
        "System.out.println(\"Selected numbers \"+i+j);\n",
        "System.out.println(\"Selected numbers \"+(i+j));\n",
        "System.out.println(\"Selected numbers \"+z);\n",
        "System.out.println(\"Selected numbers \"+w);\n"
      ]
    },
    {
      "cell_type": "code",
      "execution_count": null,
      "metadata": {
        "colab": {
          "base_uri": "https://localhost:8080/"
        },
        "id": "4PvIZTp9itPC",
        "outputId": "3a443eff-6c98-47e8-cbd7-a5ed935c733a",
        "vscode": {
          "languageId": "java"
        }
      },
      "outputs": [
        {
          "name": "stdout",
          "output_type": "stream",
          "text": [
            "Welcome to Java!AndresMData structures course.\n",
            "Welcome to Java!AndresMData structures course. System Engineering, 2024.\n"
          ]
        }
      ],
      "source": [
        "// Unión de cadenas usando el método concatenar (concat)\n",
        "String total_text = message1.concat(name).concat(message2);\n",
        "System.out.println(total_text);\n",
        "\n",
        "// Unión de cadenas usando el operador +=\n",
        "total_text += \" System Engineering, 2024.\";\n",
        "System.out.println(total_text);"
      ]
    },
    {
      "cell_type": "code",
      "execution_count": null,
      "metadata": {
        "colab": {
          "base_uri": "https://localhost:8080/"
        },
        "id": "IwYaaAJMitPD",
        "outputId": "7f1bc397-55ff-49f1-aaae-8ea833d8b1b6",
        "vscode": {
          "languageId": "java"
        }
      },
      "outputs": [
        {
          "name": "stdout",
          "output_type": "stream",
          "text": [
            "The character \\ is called backslash.\n",
            "The character ' is called single quote.\n",
            "The character \" is called double quote.\n",
            "\n",
            "Selected \t numbers\n",
            "Selected \n",
            " numbers\n",
            "Sel\bected numbers\n",
            "ected numbers\n"
          ]
        }
      ],
      "source": [
        "// Operadores especiales\n",
        "System.out.println(\"The character \\\\ is called backslash.\");\n",
        "System.out.println(\"The character \\' is called single quote.\");\n",
        "System.out.println(\"The character \\\" is called double quote.\\n\");\n",
        "\n",
        "System.out.println(\"Selected \\t numbers\");  // /t: Tab\n",
        "System.out.println(\"Selected \\n numbers\");  // /n: New Line\n",
        "System.out.println(\"Sel\\bected numbers\");   // /b: Backspace\n",
        "System.out.println(\"Sel\\rected numbers\");   // /r: Carriage Return"
      ]
    },
    {
      "cell_type": "markdown",
      "metadata": {
        "id": "Vtcpq9UYitPD"
      },
      "source": [
        "Las clases suelen ya tener definidos algunos métodos, para ello revisa las funciones de la clase [String.java](https://github.com/openjdk/jdk/blob/master/src/java.base/share/classes/java/lang/String.java#L4757) o consulta cualquiera de los siguientes enlaces:\n",
        "- [Java String Methods](https://www.w3schools.com/java/java_ref_string.asp)\n",
        "- [Class String - Oracle](https://docs.oracle.com/javase/8/docs/api/java/lang/String.html)"
      ]
    },
    {
      "cell_type": "code",
      "execution_count": null,
      "metadata": {
        "id": "2qEOp6pmitPD",
        "outputId": "1d57847f-bdcf-40f6-c5a4-88749146fcb1",
        "vscode": {
          "languageId": "java"
        }
      },
      "outputs": [
        {
          "name": "stdout",
          "output_type": "stream",
          "text": [
            "     sebas.     \n",
            "sebas.\n",
            "     sebas.          sebas.          sebas.     \n",
            "false\n",
            "6\n"
          ]
        }
      ],
      "source": [
        "String long_name = \"     sebas.     \";\n",
        "System.out.println(long_name);\n",
        "System.out.println(long_name.trim());\n",
        "System.out.println(long_name.repeat(3));\n",
        "System.out.println(long_name.isEmpty());\n",
        "System.out.println(long_name.indexOf(\"e\"));\n",
        "// Prueba 5 métodos más de la clase String"
      ]
    },
    {
      "cell_type": "code",
      "execution_count": null,
      "metadata": {
        "colab": {
          "base_uri": "https://localhost:8080/"
        },
        "id": "jkiN9YYSqc9-",
        "outputId": "1f9294e4-44b0-40b2-dc4e-32ddb0187dd4",
        "vscode": {
          "languageId": "java"
        }
      },
      "outputs": [
        {
          "name": "stdout",
          "output_type": "stream",
          "text": [
            "true\n",
            "true\n",
            "false\n"
          ]
        }
      ],
      "source": [
        "// Comparing string or checking substrings\n",
        "String s1 = \"Welcome to Java\", s2 = \"Welcome to java\", s3 = \"Welcome to C++\";\n",
        "System.out.println(s1.contains(\"Java\"));\n",
        "System.out.println(s1.equalsIgnoreCase(s2)); // true\n",
        "System.out.println(s1.equals(s3)); // false"
      ]
    },
    {
      "cell_type": "markdown",
      "metadata": {
        "id": "oFzucwG2itPE"
      },
      "source": [
        "<div align=\"center\">\n",
        "  <img src=\"https://github.com/uETITC/DataStructure-2024-2/blob/main/Lessons/images/vector2.png?raw=1\" width=70%>\n",
        "</div>\n"
      ]
    },
    {
      "cell_type": "code",
      "execution_count": null,
      "metadata": {
        "colab": {
          "base_uri": "https://localhost:8080/"
        },
        "id": "_S97y8n1itPE",
        "outputId": "d010d2c1-d5f7-45c5-88a9-562e29c2a089",
        "vscode": {
          "languageId": "java"
        }
      },
      "outputs": [
        {
          "name": "stdout",
          "output_type": "stream",
          "text": [
            "Welcome to Java\n",
            "5\n",
            "10\n",
            "\n",
            "Welcome\n",
            "to Java\n"
          ]
        }
      ],
      "source": [
        "// Substring indexes\n",
        "String message = \"Welcome to Java\";\n",
        "String sub_message = message.substring(8) + \" HTML\";\n",
        "System.out.println(message);\n",
        "System.out.println(message.indexOf(\"me\"));\n",
        "System.out.println(message.lastIndexOf(\" \"));\n",
        "System.out.println();\n",
        "\n",
        "// Substring\n",
        "int k = message.indexOf(\" \");\n",
        "String firstName = message.substring(0, k);\n",
        "String lastName = message.substring(k + 1);\n",
        "System.out.println(firstName);\n",
        "System.out.println(lastName);"
      ]
    },
    {
      "cell_type": "markdown",
      "metadata": {
        "id": "DWYigS8JitPE"
      },
      "source": [
        "### <a id='toc1_3_1_'></a>[Busquedas](#toc0_)\n",
        "\n",
        "- **Búsqueda de Subcadenas:** Busca una subcadena dentro de una cadena más grande."
      ]
    },
    {
      "cell_type": "code",
      "execution_count": null,
      "metadata": {
        "colab": {
          "base_uri": "https://localhost:8080/"
        },
        "id": "8e73bZJZitPE",
        "outputId": "2556160d-f154-4255-a857-5210a583335f",
        "vscode": {
          "languageId": "java"
        }
      },
      "outputs": [
        {
          "data": {
            "text/plain": [
              "3"
            ]
          },
          "execution_count": 162,
          "metadata": {},
          "output_type": "execute_result"
        }
      ],
      "source": [
        "public static int buscarSubcadena(String cadena, String subcadena) {\n",
        "  return cadena.indexOf(subcadena); // Retorna el índice de la subcadena o -1 si no se encuentra\n",
        "}\n",
        "buscarSubcadena(\"Andres\" , \"re\")\n",
        "// Prueba el método"
      ]
    },
    {
      "cell_type": "markdown",
      "metadata": {
        "id": "qZ_0QaI3itPE"
      },
      "source": [
        "- **Recorrido de Caracteres:** Similar a la búsqueda lineal en arreglos, pero aplicado a cada carácter de una cadena."
      ]
    },
    {
      "cell_type": "code",
      "execution_count": null,
      "metadata": {
        "colab": {
          "base_uri": "https://localhost:8080/"
        },
        "id": "o2V646xQitPF",
        "outputId": "c5370911-5b42-424e-e171-2aa0d6ecdd0d",
        "vscode": {
          "languageId": "java"
        }
      },
      "outputs": [
        {
          "data": {
            "text/plain": [
              "true"
            ]
          },
          "execution_count": 183,
          "metadata": {},
          "output_type": "execute_result"
        }
      ],
      "source": [
        "public static boolean contieneCaracter(String cadena, char c) {\n",
        "  for (int i = 0; i < cadena.length(); i++) {\n",
        "      if (cadena.charAt(i) == c) {\n",
        "          return true;\n",
        "      }\n",
        "  }\n",
        "  return false;\n",
        "}\n",
        "contieneCaracter(\"cadena\",'e');\n",
        "\n",
        "// Prueba el método"
      ]
    },
    {
      "cell_type": "markdown",
      "metadata": {
        "id": "0beQhSa2itPF"
      },
      "source": [
        "### <a id='toc1_3_2_'></a>[Aplicaciones](#toc0_)\n",
        "\n",
        "- **Procesamiento de Texto:** Las cadenas se utilizan para manipular y procesar texto, como en la construcción de mensajes, análisis de texto, o generación de informes.\n",
        "\n",
        "- **Almacenamiento de Datos:** Cadenas se utilizan en aplicaciones que requieren manipulación de texto, como bases de datos, procesadores de texto y lenguajes de programación.\n",
        "\n",
        "\n",
        "### <a id='toc1_3_3_'></a>[Ejemplo](#toc0_)"
      ]
    },
    {
      "cell_type": "code",
      "execution_count": null,
      "metadata": {
        "colab": {
          "base_uri": "https://localhost:8080/"
        },
        "id": "zRz3CnIPitPF",
        "outputId": "7fcb172c-246f-4f3f-b46a-a5e5cf6729f9",
        "vscode": {
          "languageId": "java"
        }
      },
      "outputs": [
        {
          "name": "stdout",
          "output_type": "stream",
          "text": [
            "Enter the first city: Bogota\n",
            "\n",
            "Enter the second city: Medellin\n",
            "\n",
            "The cities in alphabetical order are: Bogota Medellin\n"
          ]
        }
      ],
      "source": [
        "import java.util.Scanner;\n",
        "\n",
        "public class OrderTwoCities {\n",
        "  public static void main(String[] args) {\n",
        "  Scanner input = new Scanner(System.in);\n",
        "\n",
        "  // Prompt the user to enter two cities\n",
        "  System.out.print(\"Enter the first city: \");\n",
        "  String city1 = input.nextLine();\n",
        "  System.out.print(\"\\nEnter the second city: \");\n",
        "  String city2 = input.nextLine();\n",
        "\n",
        "  if (city1.compareTo(city2) < 0){\n",
        "  System.out.println(\"\\nThe cities in alphabetical order are: \" + city1 + \" \" + city2);}\n",
        "  else{\n",
        "  System.out.println(\"\\nThe cities in alphabetical order are: \" + city2 + \" \" + city1);}\n",
        "  }\n",
        "}\n",
        "OrderTwoCities prueba = new OrderTwoCities();\n",
        "prueba.main(new String[] {});\n",
        "\n",
        "// Prueba la clase\n"
      ]
    },
    {
      "cell_type": "markdown",
      "metadata": {
        "id": "FcB58TUuitPF"
      },
      "source": [
        "Cambia la anterior clase para que las ciudades no sean ingresadas por el usuario si no que sean pasadas a al método utilizando el vector args"
      ]
    },
    {
      "cell_type": "code",
      "execution_count": null,
      "metadata": {
        "id": "hF9l3BqhitPG",
        "vscode": {
          "languageId": "java"
        }
      },
      "outputs": [],
      "source": [
        "// Escribe el código aquí"
      ]
    },
    {
      "cell_type": "markdown",
      "metadata": {
        "id": "Y6usVpKCitPG"
      },
      "source": [
        "Puedes encontrar más información en el capítulo 4 del libro guia, Y. Daniel Liang."
      ]
    },
    {
      "cell_type": "markdown",
      "metadata": {
        "id": "ciqh5wOOitPG"
      },
      "source": [
        "## <a id='toc1_4_'></a>[Arreglos (Arrays)](#toc0_)\n",
        "\n",
        "Un arreglo es una estructura de datos que almacena elementos del mismo tipo en posiciones contiguas de memoria. Los arreglos permiten acceder a los elementos mediante un índice, comenzando desde 0.\n",
        "\n",
        "#### <a id='toc1_4_1_1_'></a>[Arreglos Unidimensionales](#toc0_)\n",
        "\n",
        "Un arreglo de una dimensión es una lista lineal de elementos. Se define siguiendo la estructura:\n",
        "\n",
        "```java\n",
        "elementType[] arrayRefVar = {content};\n",
        "```"
      ]
    },
    {
      "cell_type": "code",
      "execution_count": null,
      "metadata": {
        "colab": {
          "base_uri": "https://localhost:8080/"
        },
        "id": "Z3gx53GKitPH",
        "outputId": "770c5bfc-d956-4b62-9904-2227c5b944ab",
        "vscode": {
          "languageId": "java"
        }
      },
      "outputs": [
        {
          "name": "stdout",
          "output_type": "stream",
          "text": [
            "3\n"
          ]
        }
      ],
      "source": [
        "// Declaración y inicialización de un arreglo de enteros\n",
        "int[] numeros = {1, 2, 3, 4, 5};\n",
        "\n",
        "// Acceso a elementos\n",
        "System.out.println(numeros[2]); // Imprime 3\n"
      ]
    },
    {
      "cell_type": "code",
      "execution_count": null,
      "metadata": {
        "colab": {
          "base_uri": "https://localhost:8080/"
        },
        "id": "jF1O5RLbitPH",
        "outputId": "6e1fa6c0-dc6f-4f65-cae8-b50f06adab71",
        "vscode": {
          "languageId": "java"
        }
      },
      "outputs": [
        {
          "name": "stdout",
          "output_type": "stream",
          "text": [
            "2\n"
          ]
        }
      ],
      "source": [
        "// Declaración y inicialización de un arreglo de enteros\n",
        "String[] letras = {\"1\", \"2\", \"3\", \"4\", \"5\"};\n",
        "\n",
        "// Acceso a elementos\n",
        "System.out.println(letras[1]); // Imprime 2"
      ]
    },
    {
      "cell_type": "markdown",
      "metadata": {
        "id": "AkG8bL2ritPH"
      },
      "source": [
        "<div align=\"center\">\n",
        "  <img src=\"https://github.com/uETITC/DataStructure-2024-2/blob/main/Lessons/images/vector3.png?raw=1\" width=70%>\n",
        "</div>"
      ]
    },
    {
      "cell_type": "code",
      "execution_count": null,
      "metadata": {
        "colab": {
          "base_uri": "https://localhost:8080/"
        },
        "id": "agVlpnPDxwXh",
        "outputId": "b5f35a3c-b1f6-44b8-8cf2-9a11c2842ca3",
        "vscode": {
          "languageId": "java"
        }
      },
      "outputs": [
        {
          "name": "stdout",
          "output_type": "stream",
          "text": [
            "1.0\n"
          ]
        }
      ],
      "source": [
        "// Poblar una lista\n",
        "double[] myList = new double[10];\n",
        "myList[0] = 5.6;\n",
        "myList[1] = 4.5;\n",
        "myList[2] = 3.3;\n",
        "myList[3] = 13.2;\n",
        "myList[4] = Double.parseDouble(\"1\");\n",
        "myList[5] = 34.33;\n",
        "myList[6] = 34.0;\n",
        "myList[7] = 45.45;\n",
        "myList[8] = 99.993;\n",
        "myList[9] = 11123;\n",
        "//myList.getClass();\n",
        "System.out.println(myList[4]);"
      ]
    },
    {
      "cell_type": "markdown",
      "metadata": {
        "id": "FFW1avE7itPN"
      },
      "source": [
        "¿Se puede imprimir una lista completa usando la función `print`, es decir, funciona el siguiente comando?\n",
        "\n",
        "```java\n",
        "System.out.println(myList);\n",
        "```"
      ]
    },
    {
      "cell_type": "code",
      "execution_count": null,
      "metadata": {
        "colab": {
          "base_uri": "https://localhost:8080/"
        },
        "id": "kefKGS-t0Nl1",
        "outputId": "268e48c5-95f5-4501-ea53-33b73040b225",
        "vscode": {
          "languageId": "java"
        }
      },
      "outputs": [
        {
          "name": "stdout",
          "output_type": "stream",
          "text": [
            "0.0\n",
            "2.0\n",
            "4.0\n",
            "6.0\n",
            "8.0\n",
            "10.0\n",
            "12.0\n",
            "14.0\n",
            "16.0\n",
            "18.0\n"
          ]
        }
      ],
      "source": [
        "double[] myList  = new double[10];\n",
        "for (int i = 0; i < myList.length; i++) {\n",
        "  myList[i] = i+i;\n",
        "  System.out.println(myList[i]);\n",
        "  }"
      ]
    },
    {
      "cell_type": "code",
      "execution_count": null,
      "metadata": {
        "colab": {
          "base_uri": "https://localhost:8080/"
        },
        "id": "37U25ZrNitPO",
        "outputId": "bfb61453-71bd-4e27-c2f3-988b7f1a5694",
        "vscode": {
          "languageId": "java"
        }
      },
      "outputs": [
        {
          "name": "stdout",
          "output_type": "stream",
          "text": [
            "Enter 10 values: 2\n",
            "4\n",
            "34\n",
            "43\n",
            "63\n",
            "6\n",
            "9\n",
            "54\n",
            "2\n",
            "34\n"
          ]
        }
      ],
      "source": [
        "78java.util.Scanner input = new java.util.Scanner(System.in);\n",
        "System.out.print(\"Enter \" + myList.length + \" values: \");\n",
        "for (int i = 0; i < myList.length; i++){\n",
        "  myList[i] = input.nextDouble();\n",
        "}"
      ]
    },
    {
      "cell_type": "markdown",
      "metadata": {
        "id": "Y2C6STLMitPO"
      },
      "source": [
        "Implementa un método que imprima de forma \"bonita\" un vector"
      ]
    },
    {
      "cell_type": "code",
      "execution_count": null,
      "metadata": {
        "colab": {
          "base_uri": "https://localhost:8080/"
        },
        "id": "KWdC21TXitPO",
        "outputId": "8fa4b813-bea9-4e9e-89bd-a214b4673772",
        "vscode": {
          "languageId": "java"
        }
      },
      "outputs": [
        {
          "name": "stdout",
          "output_type": "stream",
          "text": [
            "2.0 \n",
            "4.0 \n",
            "34.0 \n",
            "43.0 \n",
            "63.0 \n",
            "6.0 \n",
            "9.0 \n",
            "54.0 \n",
            "2.0 \n",
            "34.0 \n",
            "[D@3befae86\n"
          ]
        }
      ],
      "source": [
        "// Agrega el código aquí\n",
        "public void Imprimir(double[] lista){\n",
        "for (int i = 0; i < myList.length; i++){\n",
        "  System.out.println(lista[i]+\" \");\n",
        "}\n",
        "System.out.println(myList);\n",
        "\n",
        "}\n",
        "\n",
        "Imprimir(myList);"
      ]
    },
    {
      "cell_type": "markdown",
      "metadata": {
        "id": "AwTBVZSIitPP"
      },
      "source": [
        "### <a id='toc1_4_2_'></a>[Búsquedas](#toc0_)\n",
        "\n",
        "\n",
        "<center>\n",
        "<table>\n",
        "<tr>\n",
        "    <th>  Binary Search Algorithm in 100 Seconds </th>\n",
        "    <th>  Binary Search Animated  </th>\n",
        "</tr>\n",
        "<tr>\n",
        "<td>\n",
        "\n",
        "[![Binary Search Algorithm in 100 Seconds](https://img.youtube.com/vi/MFhxShGxHWc/hqdefault.jpg)](https://www.youtube.com/watch?v=MFhxShGxHWc)\n",
        "\n",
        "</td>\n",
        "<td>\n",
        "\n",
        "[![Interpreted vs Compiled](https://img.youtube.com/vi/eVuPCG5eIr4/hqdefault.jpg)](https://www.youtube.com/watch?v=eVuPCG5eIr4)\n",
        "\n",
        "</td>\n",
        "</tr>\n",
        "</table>\n",
        "</center>\n",
        "\n",
        "- **Búsqueda Lineal:** Se recorre el arreglo elemento por elemento hasta encontrar el valor deseado."
      ]
    },
    {
      "cell_type": "code",
      "execution_count": null,
      "metadata": {
        "colab": {
          "base_uri": "https://localhost:8080/"
        },
        "id": "b3uAL06aitPP",
        "outputId": "55c43135-cda4-46fc-e9cc-850de9cf5737",
        "vscode": {
          "languageId": "java"
        }
      },
      "outputs": [
        {
          "data": {
            "text/plain": [
              "4"
            ]
          },
          "execution_count": 39,
          "metadata": {},
          "output_type": "execute_result"
        }
      ],
      "source": [
        "public static int busquedaLineal(double[] arreglo, double valor) {\n",
        "  for (int i = 0; i < arreglo.length; i++) {\n",
        "      if (arreglo[i] == valor) {\n",
        "          return i; // Retorna la posición del valor\n",
        "      }\n",
        "  }\n",
        "  return -1; // Si no se encuentra el valor\n",
        "}\n",
        "busquedaLineal(myList, 8.0);\n",
        "\n",
        "\n",
        "// Prueba la clase con un arreglo y buscando 3 elementos de esta"
      ]
    },
    {
      "cell_type": "markdown",
      "metadata": {
        "id": "6ILNZnLnitPP"
      },
      "source": [
        "- **Búsqueda Binaria:** Requiere que el arreglo esté ordenado. Divide el arreglo en mitades para encontrar el valor de manera más eficiente.\n",
        "\n",
        "<div align=\"center\">\n",
        "  <img src=\"https://github.com/uETITC/DataStructure-2024-2/blob/main/Lessons/images/binarysearch.png?raw=1\" width=70%>\n",
        "</div>"
      ]
    },
    {
      "cell_type": "code",
      "execution_count": null,
      "metadata": {
        "id": "20aSc7gjitPP",
        "vscode": {
          "languageId": "java"
        }
      },
      "outputs": [],
      "source": [
        "public static int busquedaBinaria(int[] arreglo, int valor) {\n",
        "  int inicio = 0;\n",
        "  int fin = arreglo.length - 1;\n",
        "\n",
        "  while (inicio <= fin) {\n",
        "      int medio = (inicio + fin) / 2;\n",
        "      if (arreglo[medio] == valor) {\n",
        "          return medio;\n",
        "      } else if (arreglo[medio] < valor) {\n",
        "          inicio = medio + 1;\n",
        "      } else {\n",
        "          fin = medio - 1;\n",
        "      }\n",
        "  }\n",
        "  return -1;\n",
        "}\n",
        "\n",
        "// Prueba la clase con un arreglo y buscando 3 elementos de esta"
      ]
    },
    {
      "cell_type": "markdown",
      "metadata": {
        "id": "gCT8I4pCitPQ"
      },
      "source": [
        "### <a id='toc1_4_3_'></a>[Aplicaiones](#toc0_)\n",
        "\n",
        "- **Almacenamiento de Datos:** Los arreglos se utilizan comúnmente para almacenar listas de elementos, como números, nombres, o cualquier otro tipo de datos homogéneos.\n",
        "  \n",
        "- **Matrices en Matemáticas:** Los arreglos bidimensionales (matrices) se utilizan en aplicaciones matemáticas, tales como la resolución de sistemas de ecuaciones o transformaciones en gráficos.\n",
        "\n",
        "- **Tablas de Datos:** Las matrices también se usan para representar tablas de datos, como una hoja de cálculo.\n",
        "\n",
        "### <a id='toc1_4_4_'></a>[Ejemplo](#toc0_)"
      ]
    },
    {
      "cell_type": "code",
      "execution_count": null,
      "metadata": {
        "colab": {
          "base_uri": "https://localhost:8080/"
        },
        "id": "IhpidQsHitPQ",
        "outputId": "d3d1ed86-b3c5-44df-b5a6-60f207441ec0",
        "vscode": {
          "languageId": "java"
        }
      },
      "outputs": [
        {
          "name": "stdout",
          "output_type": "stream",
          "text": [
            "Enter the number of items: 5\n",
            "Enter the numbers: 2\n",
            "3\n",
            "4\n",
            "6\n",
            "7\n",
            "Average is 4.4\n",
            "Number of elements above the average is 2\n"
          ]
        }
      ],
      "source": [
        "public class AnalyzeNumbers {\n",
        "  public static void main(String[] args) {\n",
        "    java.util.Scanner input = new java.util.Scanner(System.in);\n",
        "    System.out.print(\"Enter the number of items: \");\n",
        "    int n = input.nextInt();\n",
        "    double[] numbers = new double[n];\n",
        "    double sum = 0;\n",
        "\n",
        "    System.out.print(\"Enter the numbers: \");\n",
        "    for (int i = 0; i < n; i++) {\n",
        "      numbers[i] = input.nextDouble();\n",
        "      sum += numbers[i];\n",
        "    }\n",
        "\n",
        "    double average = sum / n;\n",
        "\n",
        "    int count = 0; // The numbers of elements above average\n",
        "    for (int i = 0; i < n; i++)\n",
        "      if (numbers[i] > average)\n",
        "        count++;\n",
        "\n",
        "    System.out.println(\"Average is \" + average);\n",
        "    System.out.println(\"Number of elements above the average is \"\n",
        "      + count);\n",
        "  }\n",
        "}\n",
        "\n",
        "// Prueba la clase: crea un objeto y llama el método main\n",
        "\n",
        "AnalyzeNumbers uno = new AnalyzeNumbers();\n",
        "uno.main(new String[] {});"
      ]
    },
    {
      "cell_type": "markdown",
      "metadata": {
        "id": "3yWl0ZEritPQ"
      },
      "source": [
        "## <a id='toc1_5_'></a>[Clases Predefinidas](#toc0_)\n",
        "\n",
        "### <a id='toc1_5_1_'></a>[Arrays](#toc0_)\n",
        "\n",
        "La clase `java.util.Arrays` contiene métodos útiles para operaciones comunes con matrices, como la ordenación y la búsqueda."
      ]
    },
    {
      "cell_type": "code",
      "execution_count": null,
      "metadata": {
        "id": "eSHEwjPMitPQ",
        "vscode": {
          "languageId": "java"
        }
      },
      "outputs": [],
      "source": [
        "// Sorting Arrays\n",
        "import java.util.Arrays;\n",
        "double[] numbers = {6.0, 4.4, 1.9, 2.9, 3.4, 3.5};\n",
        "\n",
        "Arrays.sort(numbers); // Sort the whole array\n",
        "Arrays.parallelSort(numbers); // Sort the whole array\n",
        "char[] chars = {'a', 'A', '4', 'F', 'D', 'P'};\n",
        "\n",
        "Arrays.sort(chars, 1, 3); // Sort part of the array\n",
        "Arrays.parallelSort(chars, 1, 3); // Sort part of the array"
      ]
    },
    {
      "cell_type": "code",
      "execution_count": null,
      "metadata": {
        "colab": {
          "base_uri": "https://localhost:8080/"
        },
        "id": "rrcIUV_YitPR",
        "outputId": "3fd5cdff-ddbb-41bc-a1e9-a28d0fc0222e",
        "vscode": {
          "languageId": "java"
        }
      },
      "outputs": [
        {
          "name": "stdout",
          "output_type": "stream",
          "text": [
            "1. Index is 4\n",
            "2. Index is -6\n",
            "3. Index is 0\n",
            "4. Index is -4\n"
          ]
        }
      ],
      "source": [
        "// Searching in an Arrays\n",
        "int[] list = {2, 4, 7, 10, 11, 45, 50, 59, 60, 66, 69, 70, 79};\n",
        "System.out.println(\"1. Index is \" + Arrays.binarySearch(list, 11));\n",
        "System.out.println(\"2. Index is \" + Arrays.binarySearch(list, 12));\n",
        "\n",
        "char[] chars = {'a', 'c', 'g', 'x', 'y', 'z'};\n",
        "System.out.println(\"3. Index is \" + Arrays.binarySearch(chars, 'a'));\n",
        "System.out.println(\"4. Index is \" + Arrays.binarySearch(chars, 't'));"
      ]
    },
    {
      "cell_type": "code",
      "execution_count": null,
      "metadata": {
        "id": "iN9IBvZBitPR",
        "outputId": "b7b73c9a-614b-45a0-be70-b5ef5da09ff4",
        "vscode": {
          "languageId": "java"
        }
      },
      "outputs": [
        {
          "name": "stdout",
          "output_type": "stream",
          "text": [
            "true\n",
            "false\n"
          ]
        }
      ],
      "source": [
        "// Comparing Arrays\n",
        "int[] list1 = {2, 4, 7, 10};\n",
        "int[] list2 = {2, 4, 7, 10};\n",
        "int[] list3 = {4, 2, 7, 10};\n",
        "System.out.println(java.util.Arrays.equals(list1, list2)); // true\n",
        "System.out.println(java.util.Arrays.equals(list2, list3)); // false"
      ]
    },
    {
      "cell_type": "code",
      "execution_count": null,
      "metadata": {
        "colab": {
          "base_uri": "https://localhost:8080/"
        },
        "id": "J81GhxzgitPS",
        "outputId": "af0a0131-32cb-4679-b810-f6cd27323e97",
        "vscode": {
          "languageId": "java"
        }
      },
      "outputs": [
        {
          "name": "stdout",
          "output_type": "stream",
          "text": [
            "list1: [5, 5, 5, 5]\n",
            "list2: [2, 8, 8, 8, 7, 10]\n"
          ]
        }
      ],
      "source": [
        "// Filling Arrays\n",
        "int[] list1 = {2, 4, 7, 10};\n",
        "int[] list2 = {2, 4, 7, 7, 7, 10};\n",
        "java.util.Arrays.fill(list1, 5); // Fill 5 to the whole array\n",
        "java.util.Arrays.fill(list2, 1, 4, 8); // Fill 8 to a partial array\n",
        "System.out.println(\"list1: \" + Arrays.toString(list1));\n",
        "System.out.println(\"list2: \" + Arrays.toString(list2));"
      ]
    },
    {
      "cell_type": "markdown",
      "metadata": {
        "id": "ZhHtO7HiitPS"
      },
      "source": [
        "\n",
        "Para mayor información revisa la clase de java [Arrays.java](https://github.com/openjdk/jdk/blob/master/src/java.base/share/classes/java/util/Arrays.java).\n",
        "\n",
        "### <a id='toc1_5_2_'></a>[ArrayList](#toc0_)\n",
        "\n",
        "Un ArrayList se utiliza para representar una lista dinámica. Mientras que la clase Array de Java crea vectores de tamaño fijo (el tamaño no se puede modificar), una ArrayList permite flexibilidad al poder añadir y eliminar elementos.\n",
        "\n",
        "En su comportamiento la clase ArrayList es muy similar a la clase Array. Para mayor información revisa la clase de java [ArrayList.java](https://github.com/openjdk/jdk/blob/master/src/java.base/share/classes/java/util/ArrayList.java).\n"
      ]
    },
    {
      "cell_type": "markdown",
      "metadata": {
        "id": "ybjg8mhhitPS"
      },
      "source": [
        "## <a id='toc1_6_'></a>[Conclusión](#toc0_)\n",
        "\n",
        "En esta clase, los estudiantes han aprendido sobre la estructura y manipulación de arreglos y cadenas en Java, tanto en una como en varias dimensiones. Estos conceptos son fundamentales para la programación en Java, ya que permiten organizar y procesar grandes cantidades de datos de manera eficiente. A través de aplicaciones prácticas y algoritmos de búsqueda, los estudiantes han adquirido las habilidades necesarias para aplicar estos conceptos en la resolución de problemas reales.\n",
        "\n",
        "## <a id='toc1_7_'></a>[Ejercicio Práctico](#toc0_)\n",
        "\n",
        "Elige un tema de tu interés, como una película, un deporte, un videojuego, una banda musical, etc. Con base en ese tema, desarrollarás un programa en Java que utilice arreglos y cadenas unidimensionales para realizar una tarea relacionada.\n",
        "\n",
        "### <a id='toc1_7_1_'></a>[Instrucciones](#toc0_)\n",
        "\n",
        "1. **Definición del Tema:**\n",
        "   - Escoge un tema que te apasione o te interese. Por ejemplo, si te gusta el cine, podrías trabajar con una lista de tus películas favoritas; si prefieres los deportes, podrías utilizar los nombres de los equipos de fútbol o los jugadores.\n",
        "\n",
        "2. **Diseño del Programa:**\n",
        "   - **Arreglo de Cadenas:** Crea un arreglo unidimensional para almacenar una lista de nombres relacionados con tu tema (por ejemplo, títulos de películas, nombres de jugadores, etc.).\n",
        "   - **Arreglo de Enteros:** Si es relevante para tu tema, crea un segundo arreglo para almacenar números asociados a cada elemento del primer arreglo (por ejemplo, el año de lanzamiento de cada película o las puntuaciones de los jugadores).\n",
        "   \n",
        "      Si requieres crear más arreglos o variables eres libre de agregar el código que deseas y creas pertinente.\n",
        "\n",
        "3. **Funcionalidades del Programa:**\n",
        "   - **Buscar en el Arreglo:** Implementa un método que permita buscar un elemento en el arreglo de cadenas y muestre información relacionada (por ejemplo, buscar una película por nombre y mostrar su año de lanzamiento).\n",
        "   - **Agregar y Eliminar Elementos:** Crea funcionalidades que permitan al usuario agregar nuevos elementos al arreglo o eliminar elementos existentes.\n",
        "   - **Mostrar el Contenido:** Implementa un método para mostrar todos los elementos del arreglo y su información asociada.\n",
        "\n",
        "4. **Desarrollo del Código:**\n",
        "   - Escribe el código en Java para implementar las funcionalidades descritas. Asegúrate de manejar correctamente los índices y las posibles excepciones (como intentar acceder a un índice fuera de los límites del arreglo).\n",
        "\n",
        "5. **Prueba del Programa:**\n",
        "   - Prueba el programa con diferentes entradas para asegurarte de que todas las funcionalidades funcionan correctamente.\n",
        "\n",
        "**Entregables:**\n",
        "- Código fuente en Java (o notebook) que implemente el ejercicio de acuerdo con el tema elegido.\n",
        "- Un documento breve que describa el tema seleccionado, las funcionalidades implementadas, y cómo el programa maneja los datos. Esto se puede hacer en el notebook fácilmente o comentando los códigos.\n",
        "\n",
        "Este ejercicio permite que cada estudiante trabaje en un tema que le interese, lo que fomenta la motivación y el aprendizaje activo mientras desarrollan habilidades en el manejo de arreglos y cadenas en Java.\n",
        "\n",
        "Pueden trabajar en grupo pero **NO** deben tener el mismo tema, como todos tenemos gustos diferentes todos tendremos códigos diferentes.\n"
      ]
    },
    {
      "cell_type": "markdown",
      "metadata": {
        "id": "RNa_QuT5oAV-"
      },
      "source": [
        "Campeones en League of Legends\n",
        "\n",
        "\n",
        "Tema\n",
        "\n",
        "El programa desarrollado está enfocado en la gestión de campeones del juego \"League of Legends\". Permite al usuario interactuar con una lista de campeones, añadiendo nuevos campeones, buscando campeones existentes, eliminando campeones y mostrando la lista completa de campeones con sus respectivos años de lanzamiento.\n",
        "\n",
        "Metodos Implementados:\n",
        "\n",
        "El programa cuenta con las siguientes funcionalidades:\n",
        "Mostrar Campeones: Lista todos los campeones almacenados en el programa junto con sus años de lanzamiento.\n",
        "\n",
        "Agregar Campeón: Permite al usuario agregar un nuevo campeón al sistema solicitando el nombre y el año de lanzamiento.\n",
        "\n",
        "Buscar Campeón: Facilita la búsqueda de un campeón por nombre. Si el campeón existe, muestra el año de lanzamiento correspondiente.\n",
        "\n",
        "Eliminar Campeón: Permite al usuario eliminar un campeón de la lista proporcionando su nombre.\n",
        "\n",
        "Datos en el Programa:\n",
        "\n",
        "El programa utiliza dos estructuras de datos principales:\n",
        "ArrayList de Strings (campeones): Almacena los nombres de los campeones.\n",
        "ArrayList de enteros (años): Almacena los años de lanzamiento correspondientes a cada campeón.\n",
        "\n",
        "Inicialización de Datos:\n",
        "\n",
        "En un bloque static, el programa inicializa ambas listas con datos predeterminados de campeones populares de \"League of Legends\" y sus años de lanzamiento respectivos.\n",
        "\n",
        "Despues se usa los métodos :\n",
        "\n",
        "Agregar Campeón:\n",
        "Utiliza un objeto Scanner para capturar la entrada del usuario (nombre del campeón y año de lanzamiento).\n",
        "Añade los datos a las listas campeones y años mediante el método add() de ArrayList.\n",
        "\n",
        "Buscar Campeón:\n",
        "Utiliza el método indexOf() de ArrayList para encontrar la posición de un campeón en la lista.\n",
        "Si se encuentra el campeón, imprime su nombre y año de lanzamiento; de lo contrario, informa que no se encontró.\n",
        "\n",
        "Eliminar Campeón:\n",
        "Busca el índice del campeón a eliminar usando indexOf().\n",
        "Si se encuentra, elimina tanto el nombre como el año correspondiente usando remove().\n",
        "\n",
        "Mostrar Campeones:\n",
        "Recorre las listas campeones y años y muestra cada entrada en la consola.\n",
        "\n",
        "\n",
        "El programa interactúa con el usuario mediante la consola, solicitando entradas y mostrando resultados basados en las opciones elegidas. Esto se logra a través de métodos Scanner para capturar las entradas y System.out.println para mostrar la información.\n",
        "\n"
      ]
    },
    {
      "cell_type": "code",
      "execution_count": 1,
      "metadata": {
        "colab": {
          "base_uri": "https://localhost:8080/"
        },
        "id": "ZZCGrcMMitPT",
        "outputId": "dd8580f7-719f-4537-dc9e-d7bf2bc5e19f",
        "vscode": {
          "languageId": "java"
        }
      },
      "outputs": [
        {
          "name": "stdout",
          "output_type": "stream",
          "text": [
            "\n",
            "Lista de Campeones:\n",
            "yasuo - Año de lanzamiento: 2013\n",
            "ahry - Año de lanzamiento: 2011\n",
            "Nasus - Año de lanzamiento: 2009\n",
            "jhin - Año de lanzamiento: 2016\n",
            "sett - Año de lanzamiento: 2020\n",
            "zed - Año de lanzamiento: 2012\n",
            "miss - Año de lanzamiento: 2010\n",
            "Introduce el nombre del nuevo campeón: Introduce el año de lanzamiento: Campeón agregado exitosamente.\n",
            "Introduce el nombre del campeon que deseas buscar: Campeón no encontrado.\n",
            "Introduce el nombre del campeón que deseas eliminar: Campeón no encontrado.\n",
            "\n",
            "Lista de Campeones:\n",
            "yasuo - Año de lanzamiento: 2013\n",
            "ahry - Año de lanzamiento: 2011\n",
            "Nasus - Año de lanzamiento: 2009\n",
            "jhin - Año de lanzamiento: 2016\n",
            "sett - Año de lanzamiento: 2020\n",
            "zed - Año de lanzamiento: 2012\n",
            "miss - Año de lanzamiento: 2010\n",
            "yummi - Año de lanzamiento: 12\n"
          ]
        }
      ],
      "source": [
        "class League_Of_Legends{\n",
        "\n",
        "static ArrayList<String> campeones = new ArrayList<>();\n",
        "    static ArrayList<Integer> años = new ArrayList<>();\n",
        "\n",
        " static {\n",
        "        campeones.add(\"yasuo\");\n",
        "        campeones.add(\"ahry\");\n",
        "        campeones.add(\"Nasus\");\n",
        "        campeones.add(\"jhin\");\n",
        "        campeones.add(\"sett\");\n",
        "        campeones.add(\"zed\");\n",
        "        campeones.add(\"miss\");\n",
        "\n",
        "        años.add(2013);\n",
        "        años.add(2011);\n",
        "        años.add(2009);\n",
        "        años.add(2016);\n",
        "        años.add(2020);\n",
        "        años.add(2012);\n",
        "        años.add(2010);\n",
        "    }\n",
        "\n",
        "\n",
        "\n",
        "public static void buscar_campeon(Scanner scanner) {\n",
        "        System.out.print(\"Introduce el nombre del campeon que deseas buscar: \");\n",
        "        String nombre = scanner.nextLine();\n",
        "        int index = campeones.indexOf(nombre);\n",
        "\n",
        "        if (index != -1) {\n",
        "            System.out.println(\"Campeón encontrado: \" + campeones.get(index) + \" - Año de lanzamiento: \" + años.get(index));\n",
        "        } else {\n",
        "            System.out.println(\"Campeón no encontrado.\");\n",
        "        }\n",
        "    }\n",
        "\n",
        " public static void agregar_campeon(Scanner scanner) {\n",
        "        System.out.print(\"Introduce el nombre del nuevo campeón: \");\n",
        "        String nombre= scanner.nextLine();\n",
        "        System.out.print(\"Introduce el año de lanzamiento: \");\n",
        "        int año = scanner.nextInt();\n",
        "        scanner.nextLine(); \n",
        "\n",
        "        campeones.add(nombre);\n",
        "        años.add(año);\n",
        "        System.out.println(\"Campeón agregado exitosamente.\");\n",
        "    }\n",
        "\n",
        "public static void eliminar_campeon(Scanner scanner) {\n",
        "        System.out.print(\"Introduce el nombre del campeón que deseas eliminar: \");\n",
        "        String nombre= scanner.nextLine();\n",
        "        int index = campeones.indexOf(nombre);\n",
        "\n",
        "        if (index != -1) {\n",
        "            campeones.remove(index);\n",
        "            años.remove(index);\n",
        "            System.out.println(\"Campeón eliminado exitosamente.\");\n",
        "        } else {\n",
        "            System.out.println(\"Campeón no encontrado.\");\n",
        "        }\n",
        "    }\n",
        "\n",
        " public static void mostrar_campeones() {\n",
        "        System.out.println(\"\\nLista de Campeones:\");\n",
        "        for (int i = 0; i < campeones.size(); i++) {\n",
        "            System.out.println(campeones.get(i) + \" - Año de lanzamiento: \" + años.get(i));\n",
        "        }\n",
        "\n",
        "         }\n",
        "\n",
        "    public static void main(String[] args) {\n",
        "        Scanner scanner = new Scanner(System.in);\n",
        "        mostrar_campeones();\n",
        "        agregar_campeon(scanner);\n",
        "        buscar_campeon(scanner);\n",
        "        eliminar_campeon(scanner);\n",
        "        mostrar_campeones();\n",
        "        scanner.close();\n",
        "    }\n",
        "    }\n",
        "\n",
        "    League_Of_Legends champ = new League_Of_Legends();\n",
        "    champ.main(new String[] {});\n",
        "\n"
      ]
    },
    {
      "cell_type": "markdown",
      "metadata": {
        "id": "sehu76KDitPU"
      },
      "source": [
        "**(Opcional)** Resolver alguno de los siguientes problemas utilizando clases, métodos, arreglos, cadenas, etc.\n",
        "\n",
        "- [rotate-string](https://www.codeabbey.com/index/task_view/rotate-string)\n",
        "- [palindromes](https://www.codeabbey.com/index/task_view/palindromes)\n",
        "- [reverse-string](https://www.codeabbey.com/index/task_view/reverse-string)"
      ]
    },
    {
      "cell_type": "markdown",
      "metadata": {
        "id": "pqgyW48un-6c"
      },
      "source": []
    },
    {
      "cell_type": "code",
      "execution_count": null,
      "metadata": {
        "id": "1mtj_f3TitPV",
        "vscode": {
          "languageId": "java"
        }
      },
      "outputs": [],
      "source": [
        "// Agrega aquí el código"
      ]
    },
    {
      "cell_type": "markdown",
      "metadata": {
        "id": "tvZtSpJ3itPV"
      },
      "source": [
        "## <a id='toc1_8_'></a>[Referencias](#toc0_)\n",
        "\n",
        "#### <a id='toc1_8_1_1_'></a>[Libros](#toc0_)\n",
        "\n",
        "- Y. Daniel Liang. *\"Introduction to Java Programming and Data Structures, Comprehensive Version\"*. Addison Wesley. Edición 12 (2019). Capítulo 4 y 7.\n",
        "- Koffman, Elliot B.; Wolfgang, Paul A. T.\"*Data structures : abstraction and design using Java\"*. Wiley. Tercera edición (2016).\n",
        "- James T. Streib,Takako Soma. *\"Guide to Data Structures: A Concise Introduction Using Java\"*. Springer International Publishing. Primera edición (2017).\n",
        "\n",
        "#### <a id='toc1_8_1_2_'></a>[Repositorios](#toc0_)\n",
        "\n",
        "- [Intro-to-Java-Programming](https://github.com/jsquared21/Intro-to-Java-Programming)\n",
        "\n",
        "\n",
        "#### <a id='toc1_8_1_3_'></a>[Videos](#toc0_)\n",
        "\n",
        "- [Array vs. ArrayList in Java Tutorial - What's The Difference? ](https://www.youtube.com/watch?v=NbYgm0r7u6o)\n",
        "- [Java para principiantes - Arreglos de string (String Arrays) ](https://www.youtube.com/watch?v=e4rqilsZRlU)\n",
        "- [Java array of objects 🍱   ](https://www.youtube.com/watch?v=nhIB2S6NiFA)\n",
        "   [41. Programación en Java || Arreglos || Definición de Arreglos ](https://www.youtube.com/watch?v=AZc3hxMxl54)"
      ]
    }
  ],
  "metadata": {
    "colab": {
      "provenance": []
    },
    "kernelspec": {
      "display_name": "Java",
      "language": "java",
      "name": "java"
    },
    "language_info": {
      "codemirror_mode": "java",
      "file_extension": ".jshell",
      "mimetype": "text/x-java-source",
      "name": "Java",
      "pygments_lexer": "java",
      "version": "22.0.1+8-16"
    }
  },
  "nbformat": 4,
  "nbformat_minor": 0
}
